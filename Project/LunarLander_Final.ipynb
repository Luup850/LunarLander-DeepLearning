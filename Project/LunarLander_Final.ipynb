{
 "cells": [
  {
   "attachments": {},
   "cell_type": "markdown",
   "metadata": {},
   "source": [
    "## Imports"
   ]
  },
  {
   "cell_type": "code",
   "execution_count": 14,
   "metadata": {},
   "outputs": [],
   "source": [
    "import numpy as np\n",
    "from collections import namedtuple, deque\n",
    "from tqdm import tqdm\n",
    "import gym\n",
    "from datetime import datetime\n",
    "import pandas as pd  \n",
    "import torch\n",
    "import torch.nn as nn\n",
    "import torch.nn.functional as F\n",
    "import torch.optim as optim\n",
    "import random\n",
    "from collections import namedtuple, deque\n",
    "import itertools\n",
    "import matplotlib.pyplot as plt\n",
    "import gym\n"
   ]
  },
  {
   "attachments": {},
   "cell_type": "markdown",
   "metadata": {},
   "source": [
    "### Parameters of the environment for all the models"
   ]
  },
  {
   "cell_type": "code",
   "execution_count": null,
   "metadata": {},
   "outputs": [],
   "source": [
    "# Environment parameters\n",
    "gravity= -9.8\n",
    "enable_wind = False\n",
    "wind_power = 10.0\n",
    "turbulence_power = 2.0\n",
    "\n",
    "device = torch.device(\"cuda:0\" if torch.cuda.is_available() else \"cpu\")"
   ]
  },
  {
   "attachments": {},
   "cell_type": "markdown",
   "metadata": {},
   "source": [
    "## Define Network for Policy gradient"
   ]
  },
  {
   "attachments": {},
   "cell_type": "markdown",
   "metadata": {},
   "source": [
    "### Policy network"
   ]
  },
  {
   "cell_type": "code",
   "execution_count": null,
   "metadata": {},
   "outputs": [],
   "source": [
    "class PolicyNet(nn.Module):\n",
    "    \"\"\"Policy network\"\"\"\n",
    "\n",
    "    def __init__(self, n_inputs, n_hidden, n_outputs, learning_rate):\n",
    "        super(PolicyNet, self).__init__()\n",
    "        # network\n",
    "        self.hidden1 = nn.Linear(n_inputs, n_hidden)\n",
    "        self.out = nn.Linear(n_hidden, n_outputs)\n",
    "        # training\n",
    "        self.optimizer = optim.Adam(self.parameters(), lr=learning_rate)\n",
    "\n",
    "    def forward(self, x):\n",
    "        x = self.hidden1(x)\n",
    "        x = F.relu(x)\n",
    "\n",
    "        x = self.out(x)\n",
    "        return F.softmax(x, dim=1)\n",
    "    \n",
    "    def loss(self, action_probabilities, returns):\n",
    "        return -torch.mean(torch.mul(torch.log(action_probabilities), returns))\n",
    "\n",
    "# Fucntion to compute discounted returns\n",
    "def compute_returns(rewards, discount_factor):\n",
    "    \"\"\"Compute discounted returns.\"\"\"\n",
    "    returns = np.zeros(len(rewards))\n",
    "    returns[-1] = rewards[-1]\n",
    "    for t in reversed(range(len(rewards)-1)):\n",
    "        returns[t] = rewards[t] + discount_factor * returns[t+1]\n",
    "    return returns"
   ]
  },
  {
   "attachments": {},
   "cell_type": "markdown",
   "metadata": {},
   "source": [
    "### Initialize the environment"
   ]
  },
  {
   "cell_type": "code",
   "execution_count": null,
   "metadata": {},
   "outputs": [],
   "source": [
    "env = gym.make(\n",
    "    \"LunarLander-v2\",\n",
    "    gravity = gravity,\n",
    "    enable_wind = enable_wind,\n",
    "    wind_power = wind_power,\n",
    "    turbulence_power = turbulence_power,\n",
    ")"
   ]
  },
  {
   "attachments": {},
   "cell_type": "markdown",
   "metadata": {},
   "source": [
    "### Train the model"
   ]
  },
  {
   "cell_type": "code",
   "execution_count": null,
   "metadata": {},
   "outputs": [],
   "source": [
    "num_episodes = 5000\n",
    "rollout_limit = 1000 # max rollout length\n",
    "discount_factor = 0.98 # reward discount factor (gamma), 1.0 = no discount\n",
    "learning_rate = 0.01 # you know this by now\n",
    "val_freq = 100 # validation frequency\n",
    "\n",
    "n_inputs = env.observation_space.shape[0]\n",
    "n_hidden = 20\n",
    "n_outputs = env.action_space.n\n",
    "\n",
    "# setup policy network\n",
    "\n",
    "policy = PolicyNet(n_inputs, n_hidden, n_outputs, learning_rate).to(device)\n",
    "\n",
    "# train policy network\n",
    "\n",
    "# Create a list of rewards and losses\n",
    "training_rewards, losses = [], []\n",
    "\n",
    "print('Start training')\n",
    "# Train on num_episodes game play sessions\n",
    "for i in tqdm(range(num_episodes)):\n",
    "\n",
    "    # Store a list of rollout values\n",
    "    rollout = []\n",
    "\n",
    "    # Reset the environment\n",
    "    s, _ = env.reset()\n",
    "\n",
    "    # Evaluate a policy by running it in an environment and collecting training data\n",
    "    for j in range(rollout_limit):\n",
    "        # generate rollout by iteratively evaluating the current policy on the environment\n",
    "        \n",
    "        # Do not learn from this\n",
    "        with torch.no_grad():\n",
    "\n",
    "            # Create a probability list of actions with the current state as input\n",
    "            a_prob = policy(torch.from_numpy(np.atleast_2d(s)).float().to(device))\n",
    "\n",
    "            # Sample an action from the action probabilities\n",
    "            a = torch.multinomial(a_prob.cpu(), num_samples=1).squeeze().numpy()\n",
    "\n",
    "        # Take the action and observe the next state and reward\n",
    "        s1, r, done, _, _ = env.step(a)\n",
    "\n",
    "        # Store the state, action, reward, and action probability in rollout\n",
    "        rollout.append((s, a, r))\n",
    "\n",
    "        # Update the state\n",
    "        s = s1\n",
    "\n",
    "        # If the episode is done, break out of the loop\n",
    "        if done: break\n",
    "\n",
    "    # Using the rollout collected from evaluation above, compute the discounted rewards of the policy's performance\n",
    "    # At first iteration this will be the reward calculation for taking random actions\n",
    "    rollout = np.array(rollout)\n",
    "    states = np.vstack(rollout[:,0])\n",
    "    actions = np.vstack(rollout[:,1])\n",
    "    rewards = np.array(rollout[:,2], dtype=float)\n",
    "    returns = compute_returns(rewards, discount_factor)\n",
    "\n",
    "\n",
    "    # Zero gradients so losses do not accumulate between episodes. Meaning this training step is not dependent on the previous training step\n",
    "    # As I understand it, this is because we want to let the network try to learn something new each time\n",
    "    policy.optimizer.zero_grad()\n",
    "\n",
    "    # Create a probability list of actions using the list of states given actions\n",
    "    a_probs = policy(torch.from_numpy(states).float().to(device)).gather(1, torch.from_numpy(actions).to(device)).view(-1)\n",
    "\n",
    "    # Calculate the loss using the policy's loss function\n",
    "    # Notice that this where the returns or rewards are used\n",
    "    # The loss is the negative of the mean of the log of the action probabilities multiplied by the returns\n",
    "    # This is what instructs our model to learn to do actions that lead to higher returns\n",
    "    # It does not have any other use than a metric to tell the model what to learn\n",
    "    loss = policy.loss(a_probs, torch.from_numpy(returns).float().to(device))\n",
    "\n",
    "    # Figure out where we can decrease the loss the most\n",
    "    loss.backward()\n",
    "\n",
    "    # Take a step in the direction of the loss decrease using the optimizer\n",
    "    policy.optimizer.step()\n",
    "\n",
    "    # Keep a running list of the rewards and losses of each training iteration\n",
    "    training_rewards.append(sum(rewards))\n",
    "    losses.append(loss.item())\n",
    "\n",
    "    # Print the average reward of the last 10 episodes\n",
    "    if (i+1) % val_freq == 0:\n",
    "\n",
    "        # Evaluate performance of the policy\n",
    "        validation_rewards = []\n",
    "\n",
    "        # For 10 game play session\n",
    "        for r in range(10):\n",
    "            \n",
    "            # Reset the environment\n",
    "            s, _ = env.reset()\n",
    "\n",
    "            # Reset the reward\n",
    "            reward = 0\n",
    "\n",
    "            # For rollout_limit frames\n",
    "            for _ in range(rollout_limit):\n",
    "                    \n",
    "                # Do not learn from this\n",
    "                with torch.no_grad():\n",
    "\n",
    "                    # Create a probability list of actions with the current state as input\n",
    "                    a_prob = policy(torch.from_numpy(np.atleast_2d(s)).float().to(device))\n",
    "\n",
    "                    # Sample an action from the action probabilities\n",
    "                    a = a_prob.argmax().item()\n",
    "\n",
    "                # Take the action and observe the next state and reward\n",
    "                s, r, done, _, _ = env.step(a)\n",
    "\n",
    "                # Add the reward to the total reward to get a mean over 10 game play sessions\n",
    "                reward += r\n",
    "                if done: \n",
    "                    break\n",
    "\n",
    "            # Add the total reward to the list of validation rewards\n",
    "            validation_rewards.append(reward)\n",
    "print('done')\n",
    "\n",
    "model_path=f'model/PolicyGradient_{i}_{datetime.now().strftime(\"%Y%m%d%H%M%S\")}'\n",
    "torch.save(policy.state_dict(), model_path + '.pth')\n",
    "\n",
    "def moving_average(a, n=10) :\n",
    "    ret = np.cumsum(a, dtype=float)\n",
    "    ret[n:] = ret[n:] - ret[:-n]\n",
    "    return ret / n\n",
    "\n",
    "gradient_name='plots/result_Policy_Gradient_'+str(datetime.now().strftime(\"%Y%m%d%H%M%S\"))\n",
    "df=pd.DataFrame({'training_rewards':training_rewards,'avg_training':moving_average(training_rewards),\n",
    "                 'loss':losses, 'avg_loss':moving_average(losses)})\n",
    "df.to_csv(gradient_name+'.csv')\n",
    "\n",
    "print(f'Model name: {model_path}.pth')\n",
    "print(f'Logs in: {gradient_name}.csv')"
   ]
  },
  {
   "attachments": {},
   "cell_type": "markdown",
   "metadata": {},
   "source": [
    "## Define the network for DQN and DDQN"
   ]
  },
  {
   "attachments": {},
   "cell_type": "markdown",
   "metadata": {},
   "source": [
    "### Some hyperparameters"
   ]
  },
  {
   "cell_type": "code",
   "execution_count": 15,
   "metadata": {},
   "outputs": [],
   "source": [
    "BUFFER_SIZE = int(1e5)  # replay buffer size\n",
    "BATCH_SIZE = 64         # minibatch size\n",
    "GAMMA = 0.99            # discount factor\n",
    "TAU = 1e-3              # for soft update of target parameters\n",
    "LR = 5e-4               # learning rate \n",
    "UPDATE_EVERY = 4        # how often to update the network"
   ]
  },
  {
   "attachments": {},
   "cell_type": "markdown",
   "metadata": {},
   "source": [
    "### Q Network class"
   ]
  },
  {
   "cell_type": "code",
   "execution_count": 16,
   "metadata": {},
   "outputs": [],
   "source": [
    "class QNetwork(nn.Module):\n",
    "    \"\"\"Actor (Policy) Model.\"\"\"\n",
    "\n",
    "    def __init__(self, state_size, action_size, seed, fc1_units=64, fc2_units=64):\n",
    "        \"\"\"Initialize parameters and build model.\n",
    "        Params\n",
    "        ======\n",
    "            state_size (int): Dimension of each state\n",
    "            action_size (int): Dimension of each action\n",
    "            seed (int): Random seed\n",
    "            fc1_units (int): Number of nodes in first hidden layer\n",
    "            fc2_units (int): Number of nodes in second hidden layer\n",
    "        \"\"\"\n",
    "        super(QNetwork, self).__init__()\n",
    "        self.seed = torch.manual_seed(seed)\n",
    "        self.fc1 = nn.Linear(state_size, fc1_units)\n",
    "        self.fc2 = nn.Linear(fc1_units, fc2_units)\n",
    "        self.fc3 = nn.Linear(fc2_units, action_size)\n",
    "\n",
    "    def forward(self, state):\n",
    "        \"\"\"Build a network that maps state -> action values.\"\"\"\n",
    "        \n",
    "        x = F.relu(self.fc1(state))\n",
    "        x = F.relu(self.fc2(x))\n",
    "        return self.fc3(x)"
   ]
  },
  {
   "attachments": {},
   "cell_type": "markdown",
   "metadata": {},
   "source": [
    "### Replay Buffer class"
   ]
  },
  {
   "cell_type": "code",
   "execution_count": 17,
   "metadata": {},
   "outputs": [],
   "source": [
    "class ReplayBuffer:\n",
    "    \"\"\"Fixed-size buffer to store experience tuples.\"\"\"\n",
    "\n",
    "    def __init__(self, state_size, action_size, buffer_size, batch_size):\n",
    "        \"\"\"Initialize a ReplayBuffer object.\n",
    "        Params\n",
    "        ======\n",
    "            action_size (int): dimension of each action\n",
    "            buffer_size (int): maximum size of buffer (chosen as multiple of num agents)\n",
    "            batch_size (int): size of each training batch\n",
    "            seed (int): random seed\n",
    "        \"\"\"\n",
    "        self.states = torch.zeros((buffer_size,)+(state_size,)).to(device)\n",
    "        self.next_states = torch.zeros((buffer_size,)+(state_size,)).to(device)\n",
    "        self.actions = torch.zeros(buffer_size,1, dtype=torch.long).to(device)\n",
    "        self.rewards = torch.zeros(buffer_size, 1, dtype=torch.float).to(device)\n",
    "        self.dones = torch.zeros(buffer_size, 1, dtype=torch.float).to(device)\n",
    "        self.e = np.zeros((buffer_size, 1), dtype=np.float)\n",
    "\n",
    "        self.ptr = 0\n",
    "        self.n = 0\n",
    "        self.buffer_size = buffer_size\n",
    "        self.batch_size = batch_size\n",
    "    \n",
    "    def add(self, state, action, reward, next_state, done):\n",
    "        \"\"\"Add a new experience to memory.\"\"\"\n",
    "        self.states[self.ptr] = torch.from_numpy(state).to(device)\n",
    "        self.next_states[self.ptr] = torch.from_numpy(next_state).to(device)\n",
    "        \n",
    "        self.actions[self.ptr] = torch.from_numpy(np.asarray(action)).to(device)\n",
    "        self.rewards[self.ptr] = torch.from_numpy(np.asarray(reward)).to(device)\n",
    "        self.dones[self.ptr] = done\n",
    "        \n",
    "        self.ptr += 1\n",
    "        if self.ptr >= self.buffer_size:\n",
    "            self.ptr = 0\n",
    "            self.n = self.buffer_size\n",
    "\n",
    "    def sample(self, get_all=False):\n",
    "        \"\"\"Randomly sample a batch of experiences from memory.\"\"\"\n",
    "        n = len(self)\n",
    "        if get_all:\n",
    "            return self.states[:n], self.actions[:n], self.rewards[:n], self.next_states[:n], self.dones[:n]\n",
    "        \n",
    "        idx = np.random.choice(n, self.batch_size, replace=False)\n",
    "        \n",
    "        states = self.states[idx]\n",
    "        next_states = self.next_states[idx]\n",
    "        actions = self.actions[idx]\n",
    "        rewards = self.rewards[idx]\n",
    "        dones = self.dones[idx]\n",
    "        \n",
    "        return (states, actions, rewards, next_states, dones), idx\n",
    "      \n",
    "    def update_error(self, e, idx=None):\n",
    "        e = torch.abs(e.detach())\n",
    "        e = e / e.sum()\n",
    "        if idx is not None:\n",
    "            self.e[idx] = e.cpu().numpy()\n",
    "        else:\n",
    "            self.e[:len(self)] = e.cpu().numpy()\n",
    "        \n",
    "    def __len__(self):\n",
    "        if self.n == 0:\n",
    "            return self.ptr\n",
    "        else:\n",
    "            return self.n"
   ]
  },
  {
   "attachments": {},
   "cell_type": "markdown",
   "metadata": {},
   "source": [
    "### DDQNAgent Class"
   ]
  },
  {
   "cell_type": "code",
   "execution_count": 18,
   "metadata": {},
   "outputs": [],
   "source": [
    "class DDQNAgent():\n",
    "    \"\"\"Interacts with and learns from the environment.\"\"\"\n",
    "\n",
    "    def __init__(self, state_size, action_size, seed=42, ddqn=True):\n",
    "        \"\"\"Initialize an Agent object.\n",
    "        \n",
    "        Params\n",
    "        ======\n",
    "            state_size (int): dimension of each state\n",
    "            action_size (int): dimension of each action\n",
    "            seed (int): random seed\n",
    "        \"\"\"\n",
    "        self.state_size = state_size\n",
    "        self.action_size = action_size\n",
    "        self.seed = random.seed(seed)\n",
    "        self.ddqn = ddqn\n",
    "        \n",
    "        self.qnetwork_local = QNetwork(state_size, action_size, seed).to(device)\n",
    "        self.qnetwork_target = QNetwork(state_size, action_size, seed).to(device)\n",
    "        self.optimizer = optim.Adam(self.qnetwork_local.parameters(), lr=LR)\n",
    "\n",
    "        # Replay memory\n",
    "        self.memory = ReplayBuffer(state_size, (action_size,), BUFFER_SIZE, BATCH_SIZE)\n",
    "        # Initialize time step (for updating every UPDATE_EVERY steps)\n",
    "        self.t_step = 0\n",
    "    \n",
    "    def step(self, state, action, reward, next_state, done):\n",
    "        # Save experience in replay memory\n",
    "        self.memory.add(state, action, reward, next_state, done)\n",
    "        \n",
    "        # Learn every UPDATE_EVERY time steps.\n",
    "        self.t_step = (self.t_step + 1) % UPDATE_EVERY\n",
    "        if self.t_step == 0:\n",
    "            # If enough samples are available in memory, get random subset and learn\n",
    "            if len(self.memory) > BATCH_SIZE:\n",
    "                experiences, idx = self.memory.sample()\n",
    "                e = self.learn(experiences)\n",
    "                self.memory.update_error(e, idx)\n",
    "\n",
    "    def act(self, state, eps=0.):\n",
    "        \"\"\"Returns actions for given state as per current policy.\n",
    "        \n",
    "        Params\n",
    "        ======\n",
    "            state (array_like): current state\n",
    "            eps (float): epsilon, for epsilon-greedy action selection\n",
    "        \"\"\"\n",
    "        state = torch.from_numpy(state).float().unsqueeze(0).to(device)\n",
    "        self.qnetwork_local.eval()\n",
    "        with torch.no_grad():\n",
    "            action_values = self.qnetwork_local(state)\n",
    "        self.qnetwork_local.train()\n",
    "\n",
    "        # Epsilon-greedy action selection\n",
    "        if random.random() > eps:\n",
    "            return np.argmax(action_values.cpu().data.numpy())\n",
    "        else:\n",
    "            return random.choice(np.arange(self.action_size))\n",
    "          \n",
    "    def update_error(self):\n",
    "        states, actions, rewards, next_states, dones = self.memory.sample(get_all=True)\n",
    "        with torch.no_grad():\n",
    "            if self.ddqn:\n",
    "                old_val = self.qnetwork_local(states).gather(-1, actions)\n",
    "                actions = self.qnetwork_local(next_states).argmax(-1, keepdim=True)\n",
    "                maxQ = self.qnetwork_target(next_states).gather(-1, actions)\n",
    "                target = rewards+GAMMA*maxQ*(1-dones)\n",
    "            else: # Normal DQN\n",
    "                maxQ = self.qnetwork_target(next_states).max(-1, keepdim=True)[0]\n",
    "                target = rewards+GAMMA*maxQ*(1-dones)\n",
    "                old_val = self.qnetwork_local(states).gather(-1, actions)\n",
    "            e = old_val - target\n",
    "            self.memory.update_error(e)\n",
    "\n",
    "    def learn(self, experiences):\n",
    "        \"\"\"Update value parameters using given batch of experience tuples.\n",
    "        Params\n",
    "        ======\n",
    "            experiences (Tuple[torch.Variable]): tuple of (s, a, r, s', done) tuples \n",
    "            gamma (float): discount factor\n",
    "        \"\"\"\n",
    "        states, actions, rewards, next_states, dones = experiences\n",
    "\n",
    "        ## compute and minimize the loss\n",
    "        self.optimizer.zero_grad()\n",
    "        if self.ddqn:\n",
    "            old_val = self.qnetwork_local(states).gather(-1, actions)\n",
    "            with torch.no_grad():\n",
    "                next_actions = self.qnetwork_local(next_states).argmax(-1, keepdim=True)\n",
    "                maxQ = self.qnetwork_target(next_states).gather(-1, next_actions)\n",
    "                target = rewards+GAMMA*maxQ*(1-dones)\n",
    "        else: # Normal DQN\n",
    "            with torch.no_grad():\n",
    "                maxQ = self.qnetwork_target(next_states).max(-1, keepdim=True)[0]\n",
    "                target = rewards+GAMMA*maxQ*(1-dones)\n",
    "            old_val = self.qnetwork_local(states).gather(-1, actions)   \n",
    "        \n",
    "        loss = F.mse_loss(old_val, target)\n",
    "        loss.backward()\n",
    "        self.optimizer.step()\n",
    "\n",
    "        # ------------------- update target network ------------------- #\n",
    "        self.soft_update(self.qnetwork_local, self.qnetwork_target, TAU) \n",
    "        \n",
    "        return old_val - target\n",
    "\n",
    "\n",
    "    def soft_update(self, local_model, target_model, tau):\n",
    "        \"\"\"Soft update model parameters.\n",
    "        θ_target = τ*θ_local + (1 - τ)*θ_target\n",
    "        Params\n",
    "        ======\n",
    "            local_model (PyTorch model): weights will be copied from\n",
    "            target_model (PyTorch model): weights will be copied to\n",
    "            tau (float): interpolation parameter \n",
    "        \"\"\"\n",
    "        for target_param, local_param in zip(target_model.parameters(), local_model.parameters()):\n",
    "            target_param.data.copy_(tau*local_param.data + (1.0-tau)*target_param.data)\n"
   ]
  },
  {
   "attachments": {},
   "cell_type": "markdown",
   "metadata": {},
   "source": [
    "## Train the network"
   ]
  },
  {
   "cell_type": "code",
   "execution_count": 20,
   "metadata": {},
   "outputs": [],
   "source": [
    "env = gym.make(\n",
    "    \"LunarLander-v2\",\n",
    "    gravity = gravity,\n",
    "    enable_wind = enable_wind,\n",
    "    wind_power = wind_power,\n",
    "    turbulence_power = turbulence_power,\n",
    ")\n"
   ]
  },
  {
   "cell_type": "code",
   "execution_count": 21,
   "metadata": {},
   "outputs": [
    {
     "name": "stderr",
     "output_type": "stream",
     "text": [
      "c:\\ProgramData\\Anaconda3\\lib\\site-packages\\ipykernel_launcher.py:18: DeprecationWarning: `np.float` is a deprecated alias for the builtin `float`. To silence this warning, use `float` by itself. Doing this will not modify any behavior and is safe. If you specifically wanted the numpy scalar type, use `np.float64` here.\n",
      "Deprecated in NumPy 1.20; for more details and guidance: https://numpy.org/devdocs/release/1.20.0-notes.html#deprecations\n",
      "100%|██████████| 200/200 [01:24<00:00,  2.37it/s]\n"
     ]
    },
    {
     "name": "stdout",
     "output_type": "stream",
     "text": [
      "Model name: model/DQN_200_20221220190219.pth\n",
      "Logs in: plots/result_DQN20221220190219.csv\n"
     ]
    },
    {
     "name": "stderr",
     "output_type": "stream",
     "text": [
      "100%|██████████| 200/200 [03:04<00:00,  1.08it/s]"
     ]
    },
    {
     "name": "stdout",
     "output_type": "stream",
     "text": [
      "Model name: model/DDQN_200_20221220190524.pth\n",
      "Logs in: plots/result_DDQN20221220190524.csv\n"
     ]
    },
    {
     "name": "stderr",
     "output_type": "stream",
     "text": [
      "\n"
     ]
    }
   ],
   "source": [
    "# Models to train\n",
    "ls=[[False,'DQN'],[True,'DDQN']]\n",
    "\n",
    "# Number of episodes and max length of an episode (in steps)\n",
    "n_episodes=5000\n",
    "max_t=1000\n",
    "\n",
    "# Define epsilon behaviour\n",
    "eps_start=1.0\n",
    "eps_end=0.01\n",
    "eps_decay=0.995\n",
    "\n",
    "for j in ls:\n",
    "    rewards = []\n",
    "    aver_reward = []\n",
    "    aver = deque(maxlen=100)\n",
    "    scores = []\n",
    "    state_size = env.observation_space.shape[0]\n",
    "    action_size=env.action_space.n\n",
    "    agent = DDQNAgent(state_size, action_size, 1, ddqn=j[0])\n",
    "    eps = eps_start     # initialize epsilon\n",
    "    for i_episode in tqdm(range(1, n_episodes+1)):\n",
    "        state, _ = env.reset()\n",
    "        score = 0\n",
    "        for t in range(max_t):\n",
    "            action = agent.act(state, eps)\n",
    "            next_state, reward, done, _, _ = env.step(action)\n",
    "            agent.step(state, action, reward, next_state, done)\n",
    "            state = next_state\n",
    "            score += reward\n",
    "            if done:\n",
    "                break \n",
    "        \n",
    "        # Add score to the queue to consider the last 100 for the average\n",
    "        aver.append(score)     \n",
    "        scores.append(score)\n",
    "        aver_reward.append(np.mean(aver))\n",
    "        eps = max(eps_end, eps_decay*eps) # decrease epsilon\n",
    "        \n",
    "    # Save model\n",
    "    model_path=f'model/{j[1]}_{n_episodes}_{datetime.now().strftime(\"%Y%m%d%H%M%S\")}'\n",
    "    torch.save(agent.qnetwork_local.state_dict(), model_path+'.pth')\n",
    "    print(f'Model name: {model_path}.pth')\n",
    "    \n",
    "    # Define path for the logs to be save to\n",
    "    if not j[0]:\n",
    "        file_dqn='plots/result_DQN'+str(datetime.now().strftime(\"%Y%m%d%H%M%S\"))\n",
    "        file_name = file_dqn\n",
    "    else:\n",
    "        file_ddqn='plots/result_DDQN'+str(datetime.now().strftime(\"%Y%m%d%H%M%S\"))\n",
    "        file_name = file_ddqn\n",
    "\n",
    "    df=pd.DataFrame({'score':scores,'avg_score':aver_reward})\n",
    "    df.to_csv(file_name+'.csv')\n",
    "    print(f'Logs in: {file_name}.csv')"
   ]
  },
  {
   "attachments": {},
   "cell_type": "markdown",
   "metadata": {},
   "source": [
    "## Policy"
   ]
  },
  {
   "cell_type": "code",
   "execution_count": 22,
   "metadata": {},
   "outputs": [
    {
     "data": {
      "text/plain": [
       "\"df = pd.read_csv(file_name + '.csv')\\ndf.head()\\ndf['training_rewards']\\ndf['avg_training']\\n\\nplt.figure(figsize=(12,3))\\n\\nplt.plot(range(1, len(df['training_rewards'])+1), df['training_rewards'], label='training reward')\\nplt.plot(df['avg_training'], label='average training reward')\\nplt.xlabel('episode'); plt.ylabel('reward')\\nplt.xlim((0, len(training_rewards)))\\nplt.legend(loc=4); plt.grid()\\n\\n# save the figure\\nplt.savefig('Policy_Gradient_training_rewards.png', bbox_inches='tight')\\n\""
      ]
     },
     "execution_count": 22,
     "metadata": {},
     "output_type": "execute_result"
    }
   ],
   "source": [
    "'''df = pd.read_csv(file_name + '.csv')\n",
    "df.head()\n",
    "df['training_rewards']\n",
    "df['avg_training']\n",
    "\n",
    "plt.figure(figsize=(12,3))\n",
    "\n",
    "plt.plot(range(1, len(df['training_rewards'])+1), df['training_rewards'], label='training reward')\n",
    "plt.plot(df['avg_training'], label='average training reward')\n",
    "plt.xlabel('episode'); plt.ylabel('reward')\n",
    "plt.xlim((0, len(training_rewards)))\n",
    "plt.legend(loc=4); plt.grid()\n",
    "\n",
    "# save the figure\n",
    "plt.savefig('Policy_Gradient_training_rewards.png', bbox_inches='tight')\n",
    "'''"
   ]
  },
  {
   "attachments": {},
   "cell_type": "markdown",
   "metadata": {},
   "source": [
    "## Generate figures"
   ]
  },
  {
   "attachments": {},
   "cell_type": "markdown",
   "metadata": {},
   "source": [
    "### Policy gradient"
   ]
  },
  {
   "cell_type": "code",
   "execution_count": null,
   "metadata": {},
   "outputs": [],
   "source": [
    "df = pd.read_csv(gradient_name + '.csv')\n",
    "\n",
    "plt.figure(figsize=(12,3))\n",
    "\n",
    "plt.plot(range(1, len(df['training_rewards'])+1), df['training_rewards'], label='training reward')\n",
    "plt.plot(df['avg_training'], label='average training reward')\n",
    "plt.xlabel('episode'); plt.ylabel('reward')\n",
    "plt.xlim((0, len(training_rewards)))\n",
    "plt.legend(loc=4); plt.grid()\n",
    "\n",
    "# save the figure\n",
    "plt.savefig('Policy_Gradient_training_rewards.png', bbox_inches='tight')"
   ]
  },
  {
   "attachments": {},
   "cell_type": "markdown",
   "metadata": {},
   "source": [
    "### DQN"
   ]
  },
  {
   "cell_type": "code",
   "execution_count": 23,
   "metadata": {},
   "outputs": [
    {
     "data": {
      "image/png": "[encoded data removed]",
      "text/plain": [
       "<Figure size 864x216 with 1 Axes>"
      ]
     },
     "metadata": {
      "needs_background": "light"
     },
     "output_type": "display_data"
    }
   ],
   "source": [
    "df = pd.read_csv(file_dqn + '.csv')\n",
    "training_score = df['score']\n",
    "avg_score = df['avg_score']\n",
    "\n",
    "plt.figure(figsize=(12,3))\n",
    "\n",
    "plt.plot(np.arange(len(training_score)), training_score, label='score')\n",
    "plt.plot(avg_score, label='average training score')\n",
    "plt.xlabel('episode'); plt.ylabel('score')\n",
    "plt.xlim((0, len(training_score)))\n",
    "plt.legend(loc=4); plt.grid()\n",
    "\n",
    "\n",
    "# save the figure\n",
    "plt.savefig('DQN_training_rewards.png', bbox_inches='tight')\n",
    "\n"
   ]
  },
  {
   "attachments": {},
   "cell_type": "markdown",
   "metadata": {},
   "source": [
    "### DDQN"
   ]
  },
  {
   "cell_type": "code",
   "execution_count": null,
   "metadata": {},
   "outputs": [],
   "source": [
    "df = pd.read_csv(file_ddqn + '.csv')\n",
    "training_score = df['score']\n",
    "avg_score = df['avg_score']\n",
    "\n",
    "plt.figure(figsize=(12,3))\n",
    "\n",
    "plt.plot(np.arange(len(training_score)), training_score, label='score')\n",
    "plt.plot(avg_score, label='average training score')\n",
    "plt.xlabel('episode'); plt.ylabel('score')\n",
    "plt.xlim((0, len(training_score)))\n",
    "plt.legend(loc=4); plt.grid()\n",
    "\n",
    "\n",
    "# save the figure\n",
    "plt.savefig('DDQN_training_rewards.png', bbox_inches='tight')"
   ]
  }
 ],
 "metadata": {
  "kernelspec": {
   "display_name": "base",
   "language": "python",
   "name": "python3"
  },
  "language_info": {
   "codemirror_mode": {
    "name": "ipython",
    "version": 3
   },
   "file_extension": ".py",
   "mimetype": "text/x-python",
   "name": "python",
   "nbconvert_exporter": "python",
   "pygments_lexer": "ipython3",
   "version": "3.7.4"
  },
  "orig_nbformat": 4,
  "vscode": {
   "interpreter": {
    "hash": "ad2bdc8ecc057115af97d19610ffacc2b4e99fae6737bb82f5d7fb13d2f2c186"
   }
  }
 },
 "nbformat": 4,
 "nbformat_minor": 2
}
