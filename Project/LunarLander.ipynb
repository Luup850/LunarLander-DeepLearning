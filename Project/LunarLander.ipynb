{
 "cells": [
  {
   "cell_type": "code",
   "execution_count": 3,
   "metadata": {},
   "outputs": [
    {
     "name": "stdout",
     "output_type": "stream",
     "text": [
      "Discrete(4)\n"
     ]
    }
   ],
   "source": [
    "import gym\n",
    "import cv2\n",
    "\n",
    "env = gym.make('LunarLander-v2', render_mode='human')\n",
    "env.reset()\n",
    "#for _ in range(1000):\n",
    "#    env_screen = env.render()\n",
    "#    new_observation, reward, done, info, _ = env.step(env.action_space.sample()) # take a random action\n",
    "#    if done:\n",
    "#        break\n",
    "print(env.action_space.sample())\n",
    "env.close()\n"
   ]
  }
 ],
 "metadata": {
  "kernelspec": {
   "display_name": "Python 3.9.7 64-bit",
   "language": "python",
   "name": "python3"
  },
  "language_info": {
   "codemirror_mode": {
    "name": "ipython",
    "version": 3
   },
   "file_extension": ".py",
   "mimetype": "text/x-python",
   "name": "python",
   "nbconvert_exporter": "python",
   "pygments_lexer": "ipython3",
   "version": "3.9.7"
  },
  "orig_nbformat": 4,
  "vscode": {
   "interpreter": {
    "hash": "93d8c6896ef61e2f71dce834253a4278bd7f97aacc8eff11e896aa04db3f4e2f"
   }
  }
 },
 "nbformat": 4,
 "nbformat_minor": 2
}
